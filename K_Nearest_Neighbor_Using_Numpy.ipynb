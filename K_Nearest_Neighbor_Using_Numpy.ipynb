{
 "cells": [
  {
   "cell_type": "markdown",
   "id": "567ebf41-a614-4bd3-8742-462531f53a15",
   "metadata": {},
   "source": [
    "# KNN Using Numpy and Brute Force"
   ]
  },
  {
   "cell_type": "code",
   "execution_count": 1,
   "id": "94c9662f-bab3-4ce5-b658-ea35a76068ca",
   "metadata": {},
   "outputs": [],
   "source": [
    "import numpy as np\n",
    "from collections import Counter\n",
    "\n",
    "def euclidean_distance(x1,x2):\n",
    "    return np.sqrt(np.sum((x1-x2)**2))\n",
    "    \n",
    "class KNN:\n",
    "\n",
    "    def __init__(self, k=3):\n",
    "        self.k = k\n",
    "\n",
    "    def fit(self,X,y):\n",
    "        self.X_train = X\n",
    "        self.y_train = y\n",
    "\n",
    "    def predict(self,X):\n",
    "        predicted_labels = [self._predict(x) for x in X]\n",
    "        return np.array(predicted_labels)\n",
    "\n",
    "    def _predict(self,x):\n",
    "        # Compute distances between x and all examples in the training set\n",
    "        distances = [euclidean_distance(x, x_train) for x_train in self.X_train]\n",
    "        \n",
    "        # Sort by distance and return indices of the first k neighbors\n",
    "        k_indices = np.argsort(distances)[: self.k]\n",
    "\n",
    "        # Extract the labels of the k nearest neighbor training samples\n",
    "        k_nearest_labels = [self.y_train[i] for i in k_indices]\n",
    "\n",
    "        # majority value , most common class label\n",
    "        most_common = Counter(k_nearest_labels).most_common(1)\n",
    "        return most_common[0][0]"
   ]
  },
  {
   "cell_type": "code",
   "execution_count": 2,
   "id": "72d183b5-872b-40fc-a34d-dc9eb0f153ef",
   "metadata": {},
   "outputs": [
    {
     "name": "stdout",
     "output_type": "stream",
     "text": [
      "1.0\n"
     ]
    }
   ],
   "source": [
    "from sklearn import datasets\n",
    "from sklearn.model_selection import train_test_split\n",
    "import matplotlib.pyplot as plt\n",
    "from matplotlib.colors import ListedColormap\n",
    "cmap = ListedColormap(['#FF0000','#00FF00','#0000FF'])\n",
    "\n",
    "iris = datasets.load_iris()\n",
    "X,y = iris.data,iris.target\n",
    "\n",
    "X_train, X_test, y_train, y_test = train_test_split(X,y,test_size=0.2,random_state=1234)\n",
    "\n",
    "#print(X_train.shape)\n",
    "#print(X_train[0])\n",
    "#print(y_train.shape)\n",
    "#print(y_train)\n",
    "# it's 3 class problem\n",
    "\n",
    "#plt.figure()\n",
    "#plt.scatter(X[:,0],X[:,1], c=y, cmap=cmap,edgecolor='k',s=20)\n",
    "#plt.show()\n",
    "\n",
    "# with 3 nearest neighbor model\n",
    "knn = KNN(k=3)\n",
    "knn.fit(X_train,y_train)\n",
    "predictions = knn.predict(X_test)\n",
    "\n",
    "acc = np.sum(predictions == y_test) / len(y_test)\n",
    "print(acc)"
   ]
  },
  {
   "cell_type": "code",
   "execution_count": 3,
   "id": "475401e2-cc9b-47fa-8944-00d95145395b",
   "metadata": {},
   "outputs": [
    {
     "name": "stdout",
     "output_type": "stream",
     "text": [
      "0.9666666666666667\n"
     ]
    }
   ],
   "source": [
    "# with 5 nearest neighbor model\n",
    "knn = KNN(k=5)\n",
    "knn.fit(X_train,y_train)\n",
    "predictions = knn.predict(X_test)\n",
    "\n",
    "acc = np.sum(predictions == y_test) / len(y_test)\n",
    "print(acc)"
   ]
  },
  {
   "cell_type": "code",
   "execution_count": 4,
   "id": "bf4f1e95-0e69-4aa3-8c57-d05c988b361c",
   "metadata": {},
   "outputs": [
    {
     "name": "stdout",
     "output_type": "stream",
     "text": [
      "[(2, 4)]\n"
     ]
    }
   ],
   "source": [
    "# how to use counter\n",
    "a = [1,1,1,2,2,2,2,3,4,5,6]\n",
    "from collections import Counter\n",
    "most_common = Counter(a).most_common(1)\n",
    "print(most_common)\n",
    "# 2's most time come as 4-times it give 2,4"
   ]
  },
  {
   "cell_type": "code",
   "execution_count": null,
   "id": "4a29b4d1-d819-4a7e-b117-4aaf18600c10",
   "metadata": {},
   "outputs": [],
   "source": []
  }
 ],
 "metadata": {
  "kernelspec": {
   "display_name": "Python 3 (ipykernel)",
   "language": "python",
   "name": "python3"
  },
  "language_info": {
   "codemirror_mode": {
    "name": "ipython",
    "version": 3
   },
   "file_extension": ".py",
   "mimetype": "text/x-python",
   "name": "python",
   "nbconvert_exporter": "python",
   "pygments_lexer": "ipython3",
   "version": "3.12.3"
  }
 },
 "nbformat": 4,
 "nbformat_minor": 5
}
