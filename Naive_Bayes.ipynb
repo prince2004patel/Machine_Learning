{
 "cells": [
  {
   "cell_type": "markdown",
   "id": "a3ac4de9-3568-4539-8f05-7896a04c31bb",
   "metadata": {},
   "source": [
    "# Naive Bayes Using Numpy"
   ]
  },
  {
   "cell_type": "markdown",
   "id": "32086aaf-8677-40cc-8037-393c424e9163",
   "metadata": {},
   "source": [
    "### P(A|B) = P(B|A)P(A) / P(B)"
   ]
  },
  {
   "cell_type": "markdown",
   "id": "4d06f887-3c6f-4ac0-ae66-2b3b0a55a175",
   "metadata": {},
   "source": [
    "## in our case :\n",
    "### P(y|X) = P(X|y)P(y) / P(X)\n",
    "### Where , X = (x1,x2,x3,...,xn)\n",
    "### assume that all features are muttally independent"
   ]
  },
  {
   "cell_type": "code",
   "execution_count": 2,
   "id": "4e31f89f-2435-4ffd-8335-77fa80371ea5",
   "metadata": {},
   "outputs": [],
   "source": [
    "import numpy as np\n",
    "import pandas as pd\n",
    "\n",
    "# Define the dataset\n",
    "data = {\n",
    "    \"Feature1\": [1, 2, 1, 3, 2, 3, 4, 5, 4, 5],\n",
    "    \"Feature2\": [1, 1, 2, 2, 3, 3, 4, 4, 5, 5],\n",
    "    \"Class\": [0, 0, 0, 0, 1, 1, 1, 1, 1, 1]\n",
    "}\n",
    "\n",
    "# Convert to a DataFrame for easy visualization (optional)\n",
    "df = pd.DataFrame(data)\n",
    "\n",
    "# Convert the dataset to NumPy arrays for further processing\n",
    "X = np.array(df[[\"Feature1\", \"Feature2\"]])  # Features\n",
    "y = np.array(df[\"Class\"])  # Target"
   ]
  },
  {
   "cell_type": "code",
   "execution_count": 3,
   "id": "544d6534-3a8f-4ca8-b863-82e4a795c701",
   "metadata": {},
   "outputs": [
    {
     "data": {
      "text/html": [
       "<div>\n",
       "<style scoped>\n",
       "    .dataframe tbody tr th:only-of-type {\n",
       "        vertical-align: middle;\n",
       "    }\n",
       "\n",
       "    .dataframe tbody tr th {\n",
       "        vertical-align: top;\n",
       "    }\n",
       "\n",
       "    .dataframe thead th {\n",
       "        text-align: right;\n",
       "    }\n",
       "</style>\n",
       "<table border=\"1\" class=\"dataframe\">\n",
       "  <thead>\n",
       "    <tr style=\"text-align: right;\">\n",
       "      <th></th>\n",
       "      <th>Feature1</th>\n",
       "      <th>Feature2</th>\n",
       "      <th>Class</th>\n",
       "    </tr>\n",
       "  </thead>\n",
       "  <tbody>\n",
       "    <tr>\n",
       "      <th>0</th>\n",
       "      <td>1</td>\n",
       "      <td>1</td>\n",
       "      <td>0</td>\n",
       "    </tr>\n",
       "    <tr>\n",
       "      <th>1</th>\n",
       "      <td>2</td>\n",
       "      <td>1</td>\n",
       "      <td>0</td>\n",
       "    </tr>\n",
       "    <tr>\n",
       "      <th>2</th>\n",
       "      <td>1</td>\n",
       "      <td>2</td>\n",
       "      <td>0</td>\n",
       "    </tr>\n",
       "    <tr>\n",
       "      <th>3</th>\n",
       "      <td>3</td>\n",
       "      <td>2</td>\n",
       "      <td>0</td>\n",
       "    </tr>\n",
       "    <tr>\n",
       "      <th>4</th>\n",
       "      <td>2</td>\n",
       "      <td>3</td>\n",
       "      <td>1</td>\n",
       "    </tr>\n",
       "    <tr>\n",
       "      <th>5</th>\n",
       "      <td>3</td>\n",
       "      <td>3</td>\n",
       "      <td>1</td>\n",
       "    </tr>\n",
       "    <tr>\n",
       "      <th>6</th>\n",
       "      <td>4</td>\n",
       "      <td>4</td>\n",
       "      <td>1</td>\n",
       "    </tr>\n",
       "    <tr>\n",
       "      <th>7</th>\n",
       "      <td>5</td>\n",
       "      <td>4</td>\n",
       "      <td>1</td>\n",
       "    </tr>\n",
       "    <tr>\n",
       "      <th>8</th>\n",
       "      <td>4</td>\n",
       "      <td>5</td>\n",
       "      <td>1</td>\n",
       "    </tr>\n",
       "    <tr>\n",
       "      <th>9</th>\n",
       "      <td>5</td>\n",
       "      <td>5</td>\n",
       "      <td>1</td>\n",
       "    </tr>\n",
       "  </tbody>\n",
       "</table>\n",
       "</div>"
      ],
      "text/plain": [
       "   Feature1  Feature2  Class\n",
       "0         1         1      0\n",
       "1         2         1      0\n",
       "2         1         2      0\n",
       "3         3         2      0\n",
       "4         2         3      1\n",
       "5         3         3      1\n",
       "6         4         4      1\n",
       "7         5         4      1\n",
       "8         4         5      1\n",
       "9         5         5      1"
      ]
     },
     "execution_count": 3,
     "metadata": {},
     "output_type": "execute_result"
    }
   ],
   "source": [
    "df"
   ]
  },
  {
   "cell_type": "markdown",
   "id": "21eb4c7c-908e-4b49-804a-eef0a8400bb5",
   "metadata": {},
   "source": []
  },
  {
   "cell_type": "code",
   "execution_count": 24,
   "id": "f33308d2-f728-4814-9ab6-329214096dba",
   "metadata": {},
   "outputs": [],
   "source": [
    "class GaussianNaiveBayes:\n",
    "    def __init__(self):\n",
    "        self.classes = None\n",
    "        self.mean = {}\n",
    "        self.var = {}\n",
    "        self.priors = {}\n",
    "\n",
    "    def fit(self,X,y):\n",
    "        self.classes = np.unique(y)\n",
    "        for cls in self.classes:\n",
    "            x_cls = X[y == cls]\n",
    "\n",
    "            self.priors[cls] = len(x_cls)/len(y)\n",
    "\n",
    "            self.mean[cls] = np.mean(x_cls,axis=0)\n",
    "            self.var[cls] = np.var(x_cls,axis=0)\n",
    "\n",
    "    def _gaussian_prob(self,x,mean,var):\n",
    "        exponent = np.exp(-((x - mean)**2) / (2 * var))\n",
    "        return (1 / np.sqrt(2 * np.pi * var)) * exponent\n",
    "\n",
    "    def _calculate_posterior(self,x):\n",
    "        posteriors = {}\n",
    "        for cls in self.classes:\n",
    "            log_posterior = np.log(self.priors[cls])\n",
    "\n",
    "            for i in range(len(x)):\n",
    "                log_posterior += np.log(self._gaussian_prob(x[i], self.mean[cls][i],self.var[cls][i]))\n",
    "\n",
    "            posteriors[cls] = log_posterior\n",
    "\n",
    "        return posteriors\n",
    "\n",
    "    def predict(self,X):\n",
    "        predictions = []\n",
    "        for x in X:\n",
    "            posteriors = self._calculate_posterior(x)\n",
    "            predictions.append(max(posteriors,key=posteriors.get))\n",
    "        return np.array(predictions)"
   ]
  },
  {
   "cell_type": "code",
   "execution_count": 10,
   "id": "312addb2-d901-4b6c-88b0-787611db1e91",
   "metadata": {},
   "outputs": [],
   "source": [
    "model = GaussianNaiveBayes()\n",
    "\n",
    "model.fit(X,y)"
   ]
  },
  {
   "cell_type": "code",
   "execution_count": 11,
   "id": "a1fb3bb6-6bdb-4293-9a9c-e58ecf05b77d",
   "metadata": {},
   "outputs": [],
   "source": [
    "y_pred = model.predict(X)"
   ]
  },
  {
   "cell_type": "code",
   "execution_count": 25,
   "id": "7423c44e-d500-48c0-8844-7890e22a6f45",
   "metadata": {},
   "outputs": [
    {
     "data": {
      "text/plain": [
       "array([0, 0, 0, 0, 1, 1, 1, 1, 1, 1], dtype=int64)"
      ]
     },
     "execution_count": 25,
     "metadata": {},
     "output_type": "execute_result"
    }
   ],
   "source": [
    "y_pred"
   ]
  },
  {
   "cell_type": "code",
   "execution_count": 26,
   "id": "7f3e697d-dac4-4d84-a907-95cd437ee4da",
   "metadata": {},
   "outputs": [],
   "source": [
    "X_test = np.array([[1.5, 2.5], [3.5, 4.5]])"
   ]
  },
  {
   "cell_type": "code",
   "execution_count": 27,
   "id": "005b8616-9024-42d2-a049-339631ce3950",
   "metadata": {},
   "outputs": [],
   "source": [
    "y_pred = model.predict(X_test)"
   ]
  },
  {
   "cell_type": "code",
   "execution_count": 28,
   "id": "463941c0-a3a2-4374-81b8-6e66d82134f0",
   "metadata": {},
   "outputs": [
    {
     "data": {
      "text/plain": [
       "array([0, 1], dtype=int64)"
      ]
     },
     "execution_count": 28,
     "metadata": {},
     "output_type": "execute_result"
    }
   ],
   "source": [
    "y_pred"
   ]
  },
  {
   "cell_type": "code",
   "execution_count": null,
   "id": "18058d16-782b-40b0-9dcb-1851cf2ffa3d",
   "metadata": {},
   "outputs": [],
   "source": []
  }
 ],
 "metadata": {
  "kernelspec": {
   "display_name": "Python 3 (ipykernel)",
   "language": "python",
   "name": "python3"
  },
  "language_info": {
   "codemirror_mode": {
    "name": "ipython",
    "version": 3
   },
   "file_extension": ".py",
   "mimetype": "text/x-python",
   "name": "python",
   "nbconvert_exporter": "python",
   "pygments_lexer": "ipython3",
   "version": "3.12.3"
  }
 },
 "nbformat": 4,
 "nbformat_minor": 5
}
